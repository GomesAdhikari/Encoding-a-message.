{
  "cells": [
    {
      "cell_type": "markdown",
      "metadata": {
        "id": "view-in-github",
        "colab_type": "text"
      },
      "source": [
        "<a href=\"https://colab.research.google.com/github/GomesAdhikari/Encoding-a-message./blob/main/Encoding_and_Decoding_a_message.ipynb\" target=\"_parent\"><img src=\"https://colab.research.google.com/assets/colab-badge.svg\" alt=\"Open In Colab\"/></a>"
      ]
    },
    {
      "cell_type": "markdown",
      "metadata": {
        "id": "C8StxgZZRnOe"
      },
      "source": [
        "# Encoding and decoding a Message"
      ]
    },
    {
      "cell_type": "code",
      "execution_count": null,
      "metadata": {
        "colab": {
          "background_save": true,
          "base_uri": "https://localhost:8080/"
        },
        "id": "V3MC7Cf5RlOO",
        "outputId": "1f92268a-43f9-48e5-dbfb-fea986e55683"
      },
      "outputs": [
        {
          "output_type": "stream",
          "name": "stdout",
          "text": [
            "Choice:\n",
            "\n",
            "1. Encode message\n",
            "2. Decode message\n",
            "3. Quit\n",
            "\n"
          ]
        }
      ],
      "source": [
        "# encoding and decoding message program you can encode any message and you want and decode the message with this program\n",
        "import random\n",
        "def code():\n",
        "    x = input('Enter message to Encode : ')\n",
        "    list1 = x.split()\n",
        "    global encode_list\n",
        "    encode_list = []\n",
        "    char = ['@','a','1','&','I','o','t']\n",
        "    for i in list1:\n",
        "        if len(i)>2:\n",
        "            x = i[0]\n",
        "            i = i.replace(i[0],'')\n",
        "            i+=x\n",
        "            for t in range(3):\n",
        "                y = random.choice(char)\n",
        "                i+=y\n",
        "            for t in range(3):\n",
        "                c = char[random.randint(0,len(char)-1)]\n",
        "                i = c+i\n",
        "        elif len(i)==2:\n",
        "            i = i[::-1]\n",
        "        encode_list.append(i)\n",
        "    encode_string = ''\n",
        "    for i in encode_list:\n",
        "        encode_string = encode_string + i +' '\n",
        "    print(encode_list)\n",
        "    print('Your Encoded message :',encode_string)\n",
        "def decode():\n",
        "    y = input('Enter message to Decode : ')\n",
        "    decode_list = y.split()\n",
        "    decoded = []\n",
        "    for i in decode_list:\n",
        "        if len(i)>2:\n",
        "            i = i.replace(i[len(i)-3:len(i)],'')\n",
        "            i = i.replace(i[:3],'')\n",
        "            last = i[len(i)-1]\n",
        "            i = i.replace(i[len(i)-1],'')\n",
        "            i = last +i\n",
        "        elif len(i)==2:\n",
        "            i = i[::-1]\n",
        "        decoded.append(i)\n",
        "    decoded_string = ''\n",
        "    for i in decoded:\n",
        "        decoded_string = decoded_string + i + ' '\n",
        "    print('Your decoded message :',decoded_string)\n",
        "while True:\n",
        "    print('''Choice:\n",
        "\n",
        "1. Encode message\n",
        "2. Decode message\n",
        "3. Quit''')\n",
        "    print()\n",
        "    choice = input('Enter choice : ')\n",
        "    if choice not in ['1','2','3']:\n",
        "        print('Enter a valid choice!')\n",
        "        print()\n",
        "        choice = input('Enter choice : ')\n",
        "    if choice == '1':\n",
        "        code()\n",
        "    if choice== '2':\n",
        "        decode()\n",
        "    if choice not in ['1','2','3']:\n",
        "        print('invalid choice')\n",
        "    if choice== '3':\n",
        "        print('Thank You.')\n",
        "        break"
      ]
    },
    {
      "cell_type": "markdown",
      "metadata": {
        "id": "QQnY008GRmc1"
      },
      "source": []
    }
  ],
  "metadata": {
    "colab": {
      "provenance": [],
      "authorship_tag": "ABX9TyMAMG7XOpAWwpeuughvdzxT",
      "include_colab_link": true
    },
    "kernelspec": {
      "display_name": "Python 3",
      "name": "python3"
    },
    "language_info": {
      "name": "python"
    }
  },
  "nbformat": 4,
  "nbformat_minor": 0
}